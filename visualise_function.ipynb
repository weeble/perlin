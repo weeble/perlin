{
 "cells": [
  {
   "cell_type": "code",
   "execution_count": null,
   "metadata": {},
   "outputs": [],
   "source": [
    "from PIL import Image\n",
    "import numpy as np\n",
    "import matplotlib.pyplot as plt\n",
    "from typing import Callable"
   ]
  },
  {
   "cell_type": "code",
   "execution_count": null,
   "metadata": {},
   "outputs": [],
   "source": [
    "def f(x,y):\n",
    "    return x % 1.0"
   ]
  },
  {
   "cell_type": "code",
   "execution_count": null,
   "metadata": {},
   "outputs": [],
   "source": [
    "def visualise(f, minx=0.0, maxx=1.0, miny=0.0, maxy=1.0, width=256, height=256):\n",
    "    xwidth = maxx - minx\n",
    "    yheight = maxy - miny\n",
    "    \n",
    "    def get_pixel(row, column):\n",
    "        x = column / (width-1) * xwidth + minx\n",
    "        y = row / (height-1) * yheight + miny\n",
    "        return f(x,y)\n",
    "\n",
    "    pixels = np.flipud(np.fromfunction(get_pixel, (height, width))).astype(float)*255\n",
    "    return Image.fromarray(pixels).convert('L')"
   ]
  },
  {
   "cell_type": "code",
   "execution_count": null,
   "metadata": {},
   "outputs": [],
   "source": [
    "visualise(f)"
   ]
  },
  {
   "cell_type": "code",
   "execution_count": null,
   "metadata": {},
   "outputs": [],
   "source": [
    "visualise(lambda x,y:x+y)"
   ]
  },
  {
   "cell_type": "code",
   "execution_count": null,
   "metadata": {},
   "outputs": [],
   "source": [
    "columns = 20\n",
    "rows = 20\n",
    "\n",
    "x = np.arange(0,columns,1)\n",
    "y = np.arange(0,rows,1)\n",
    "\n",
    "X, Y = np.meshgrid(x, y)\n",
    "\n",
    "SEED = [1,2,3,4]\n",
    "random = np.random.RandomState(SEED)\n",
    "\n",
    "random_angles = random.rand(rows,columns) * (2 * np.pi)\n",
    "\n",
    "x_components = np.cos(random_angles)\n",
    "y_components = np.sin(random_angles)\n"
   ]
  },
  {
   "cell_type": "code",
   "execution_count": null,
   "metadata": {},
   "outputs": [],
   "source": [
    "fig, ax = plt.subplots()\n",
    "\n",
    "x_pos = X\n",
    "y_pos = Y\n",
    "x_direct = x_components\n",
    "y_direct = y_components\n",
    "\n",
    "assert x_pos.shape == y_pos.shape == x_direct.shape == y_direct.shape\n",
    "\n",
    "ax.quiver(x_pos,y_pos,x_direct,y_direct, angles='xy', scale_units='xy', scale=2)\n",
    "\n",
    "plt.show()"
   ]
  },
  {
   "cell_type": "code",
   "execution_count": null,
   "metadata": {},
   "outputs": [],
   "source": [
    "\n",
    "def colour_point_by_gradient(x, y, gradient_column, gradient_row):\n",
    "    gx = x_components[gradient_row, gradient_column]\n",
    "    gy = y_components[gradient_row, gradient_column]\n",
    "    dot_product = (x * gx) + (y * gy)\n",
    "\n",
    "    return dot_product * 0.5 + 0.5\n",
    "\n",
    "def f(x,y):\n",
    "    return colour_point_by_gradient(x,y,3,5)\n",
    "\n",
    "visualise(f, minx=-1.0, maxx=1.0, miny=-1.0, maxy=1.0)"
   ]
  },
  {
   "cell_type": "code",
   "execution_count": null,
   "metadata": {},
   "outputs": [],
   "source": [
    "COLOUR_FUNC = Callable[[float, float], float]\n",
    "GRID_FUNC = Callable[[int, int], COLOUR_FUNC]\n",
    "\n",
    "def interpolate_nearest_neighbour(get_colour_func_for_grid_cell: GRID_FUNC) -> COLOUR_FUNC:\n",
    "    def get_pixel_colour(x: float,y: float) -> float:\n",
    "        grid_x = np.round(x).astype(int)\n",
    "        grid_y = np.round(y).astype(int)\n",
    "\n",
    "        pixel_func = get_colour_func_for_grid_cell(grid_x,grid_y)\n",
    "        return pixel_func(x,y)\n",
    "    \n",
    "    return get_pixel_colour\n",
    "\n",
    "def get_gradient_colour_func_for_grid_cell(grid_x: int, grid_y: int) -> COLOUR_FUNC:\n",
    "    def get_pixel_colour(x,y):\n",
    "        return colour_point_by_gradient(x - grid_x, y - grid_y, grid_x, grid_y)\n",
    "\n",
    "    return get_pixel_colour\n",
    "\n",
    "visualise(interpolate_nearest_neighbour(get_gradient_colour_func_for_grid_cell), minx=0, maxx=5.0, miny=0, maxy=5.0)"
   ]
  },
  {
   "cell_type": "code",
   "execution_count": null,
   "metadata": {},
   "outputs": [],
   "source": [
    "def lerp(start, end, t):\n",
    "    return start * (1 - t) + t * end\n",
    "def smoothstep(start, end, t):\n",
    "    return start + t * t * (3.0 - 2.0 * t) * (end - start)\n",
    "def nearest_neighbour(start, end, t):\n",
    "    if t>=0.5:\n",
    "        return end\n",
    "    return start"
   ]
  },
  {
   "cell_type": "code",
   "execution_count": null,
   "metadata": {},
   "outputs": [],
   "source": [
    "def interpolate_linearly(get_colour_func_for_grid_cell: GRID_FUNC) -> COLOUR_FUNC:\n",
    "    def get_pixel_colour(x: float,y: float) -> float:\n",
    "        left_grid_x = np.floor(x).astype(int)\n",
    "        right_grid_x = left_grid_x + 1\n",
    "        lower_grid_y = np.floor(y).astype(int)\n",
    "        upper_grid_y = lower_grid_y + 1\n",
    "\n",
    "        x_remainder = x - left_grid_x\n",
    "        y_remainder = y - lower_grid_y\n",
    "\n",
    "        lower_left_pixel = get_colour_func_for_grid_cell(left_grid_x, lower_grid_y)(x,y)\n",
    "        lower_right_pixel = get_colour_func_for_grid_cell(right_grid_x, lower_grid_y)(x,y)\n",
    "        upper_left_pixel = get_colour_func_for_grid_cell(left_grid_x, upper_grid_y)(x,y)\n",
    "        upper_right_pixel = get_colour_func_for_grid_cell(right_grid_x, upper_grid_y)(x,y)\n",
    "\n",
    "        \n",
    "        lower_lerp_pixel = smoothstep(lower_left_pixel, lower_right_pixel, x_remainder)\n",
    "        upper_lerp_pixel = smoothstep(upper_left_pixel, upper_right_pixel, x_remainder)\n",
    "\n",
    "        final_pixel = smoothstep(lower_lerp_pixel, upper_lerp_pixel, y_remainder)\n",
    "        return final_pixel\n",
    "    \n",
    "    return get_pixel_colour\n",
    "\n",
    "visualise(interpolate_linearly(get_gradient_colour_func_for_grid_cell), minx=0, maxx=18.9, miny=0, maxy=18.9)"
   ]
  }
 ],
 "metadata": {
  "kernelspec": {
   "display_name": "Python 3",
   "language": "python",
   "name": "python3"
  },
  "language_info": {
   "codemirror_mode": {
    "name": "ipython",
    "version": 3
   },
   "file_extension": ".py",
   "mimetype": "text/x-python",
   "name": "python",
   "nbconvert_exporter": "python",
   "pygments_lexer": "ipython3",
   "version": "3.7.6-final"
  }
 },
 "nbformat": 4,
 "nbformat_minor": 4
}