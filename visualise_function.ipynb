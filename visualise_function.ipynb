{
 "cells": [
  {
   "cell_type": "code",
   "execution_count": null,
   "metadata": {},
   "outputs": [],
   "source": [
    "from PIL import Image\n",
    "import numpy as np\n",
    "import matplotlib.pyplot as plt"
   ]
  },
  {
   "cell_type": "code",
   "execution_count": null,
   "metadata": {},
   "outputs": [],
   "source": [
    "SEED = [1,2,3,4]\n",
    "random = np.random.RandomState(SEED) "
   ]
  },
  {
   "cell_type": "code",
   "execution_count": null,
   "metadata": {},
   "outputs": [],
   "source": [
    "def f(x,y):\n",
    "    return x % 1.0"
   ]
  },
  {
   "cell_type": "code",
   "execution_count": null,
   "metadata": {},
   "outputs": [],
   "source": [
    "def visualise(f, minx=0.0, maxx=1.0, miny=0.0, maxy=1.0, width=256, height=256):\n",
    "    xwidth = maxx - minx\n",
    "    yheight = maxy - miny\n",
    "    def get_pixel(row, column):\n",
    "        x = column / (width-1) * xwidth + minx\n",
    "        y = row / (height-1) * yheight + miny\n",
    "        return f(x,y)\n",
    "    pixels = np.flipud(np.fromfunction(get_pixel, (height, width)))*255\n",
    "    return Image.fromarray(pixels).convert('L')"
   ]
  },
  {
   "cell_type": "code",
   "execution_count": null,
   "metadata": {},
   "outputs": [],
   "source": [
    "visualise(f)"
   ]
  },
  {
   "cell_type": "code",
   "execution_count": null,
   "metadata": {},
   "outputs": [],
   "source": [
    "visualise(lambda x,y:x+y)"
   ]
  },
  {
   "cell_type": "code",
   "execution_count": null,
   "metadata": {},
   "outputs": [],
   "source": [
    "columns = 10\n",
    "rows = 8\n",
    "\n",
    "x = np.arange(0,columns,1)\n",
    "y = np.arange(0,rows,1)\n",
    "\n",
    "X, Y = np.meshgrid(x, y)\n",
    "\n",
    "SEED = [1,2,3,4]\n",
    "random = np.random.RandomState(SEED)\n",
    "\n",
    "random_angles = random.rand(rows,columns) * (2 * np.pi)\n",
    "\n",
    "x_components = np.cos(random_angles)\n",
    "y_components = np.sin(random_angles)\n"
   ]
  },
  {
   "cell_type": "code",
   "execution_count": null,
   "metadata": {},
   "outputs": [],
   "source": [
    "fig, ax = plt.subplots()\n",
    "\n",
    "x_pos = X\n",
    "y_pos = Y\n",
    "x_direct = x_components\n",
    "y_direct = y_components\n",
    "\n",
    "assert x_pos.shape == y_pos.shape == x_direct.shape == y_direct.shape\n",
    "\n",
    "ax.quiver(x_pos,y_pos,x_direct,y_direct, angles='xy', scale_units='xy', scale=2)\n",
    "\n",
    "plt.show()"
   ]
  },
  {
   "cell_type": "code",
   "execution_count": null,
   "metadata": {},
   "outputs": [],
   "source": [
    "\n",
    "def colour_point_by_gradient(x, y, gradient_column, gradient_row):\n",
    "    gx = x_components[gradient_row, gradient_column]\n",
    "    gy = y_components[gradient_row, gradient_column]\n",
    "    dot_product = (x * gx) + (y * gy)\n",
    "\n",
    "    return dot_product * 0.5 + 0.5\n",
    "\n",
    "def f(x,y):\n",
    "    return colour_point_by_gradient(x,y,3,5)\n",
    "\n",
    "visualise(f, minx=-1.0, maxx=1.0, miny=-1.0, maxy=1.0)"
   ]
  }
 ],
 "metadata": {
  "kernelspec": {
   "display_name": "Python 3",
   "language": "python",
   "name": "python3"
  },
  "language_info": {
   "codemirror_mode": {
    "name": "ipython",
    "version": 3
   },
   "file_extension": ".py",
   "mimetype": "text/x-python",
   "name": "python",
   "nbconvert_exporter": "python",
   "pygments_lexer": "ipython3",
   "version": "3.7.6-final"
  }
 },
 "nbformat": 4,
 "nbformat_minor": 4
}